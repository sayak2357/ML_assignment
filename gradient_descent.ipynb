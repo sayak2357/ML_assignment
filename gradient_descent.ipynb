{
 "cells": [
  {
   "cell_type": "code",
   "execution_count": 37,
   "metadata": {},
   "outputs": [],
   "source": [
    "import numpy as np"
   ]
  },
  {
   "cell_type": "code",
   "execution_count": 38,
   "metadata": {},
   "outputs": [],
   "source": [
    "def graient_descent(x,y):\n",
    "    mcurr=bcurr=0\n",
    "    n=len(x)\n",
    "    iterations = 1000\n",
    "    learningrate=0.1\n",
    "    for i in range(0,6):\n",
    "        print(mcurr,bcurr,i)\n",
    "        y_predicted= x*mcurr+bcurr\n",
    "        md= -(2/n)*sum(x*(y-y_predicted))\n",
    "        bd= -(2/n)*sum(y-y_predicted)\n",
    "        mcurr=mcurr - md*learningrate\n",
    "        bcurr=bcurr - bd*learningrate\n",
    "        "
   ]
  },
  {
   "cell_type": "code",
   "execution_count": 39,
   "metadata": {},
   "outputs": [],
   "source": [
    "x=np.array([1,3,6])\n",
    "y=np.array([6,10,16])"
   ]
  },
  {
   "cell_type": "code",
   "execution_count": 40,
   "metadata": {},
   "outputs": [
    {
     "name": "stdout",
     "output_type": "stream",
     "text": [
      "0 0 0\n",
      "8.8 2.1333333333333333 1\n",
      "-10.808888888888891 -2.026666666666667 2\n",
      "32.48948148148149 7.717925925925927 3\n",
      "-63.490212345679026 -13.351980246913586 4\n",
      "148.91442567901237 33.77855736625516 5\n"
     ]
    }
   ],
   "source": [
    "graient_descent(x,y)"
   ]
  },
  {
   "cell_type": "code",
   "execution_count": 20,
   "metadata": {},
   "outputs": [
    {
     "name": "stdout",
     "output_type": "stream",
     "text": [
      "155\n"
     ]
    }
   ],
   "source": [
    "print(sum(x*y))"
   ]
  },
  {
   "cell_type": "code",
   "execution_count": null,
   "metadata": {},
   "outputs": [],
   "source": []
  }
 ],
 "metadata": {
  "kernelspec": {
   "display_name": "Python 3",
   "language": "python",
   "name": "python3"
  },
  "language_info": {
   "codemirror_mode": {
    "name": "ipython",
    "version": 3
   },
   "file_extension": ".py",
   "mimetype": "text/x-python",
   "name": "python",
   "nbconvert_exporter": "python",
   "pygments_lexer": "ipython3",
   "version": "3.6.6"
  }
 },
 "nbformat": 4,
 "nbformat_minor": 2
}
