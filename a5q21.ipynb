{
 "cells": [
  {
   "cell_type": "code",
   "execution_count": 1,
   "metadata": {},
   "outputs": [],
   "source": [
    "import pandas as pd\n",
    "import io\n",
    "from sklearn.model_selection import train_test_split\n",
    "from sklearn import neighbors\n",
    "import numpy as np\n",
    "import matplotlib.pyplot as plt\n",
    "import seaborn as sns\n",
    "%matplotlib inline"
   ]
  },
  {
   "cell_type": "code",
   "execution_count": 2,
   "metadata": {},
   "outputs": [],
   "source": [
    "data=pd.read_csv('realestate.csv')"
   ]
  },
  {
   "cell_type": "markdown",
   "metadata": {},
   "source": [
    "# 2a K Nearest Neighbor"
   ]
  },
  {
   "cell_type": "code",
   "execution_count": 3,
   "metadata": {},
   "outputs": [],
   "source": [
    "X=data.drop('Y house price of unit area',axis=1)\n",
    "y=data['Y house price of unit area']\n",
    "X = X.values\n",
    "y = y.values\n",
    "X_start, X_test, y_intermediate, y_test = train_test_split(X, y, test_size=0.30, random_state=1)\n",
    "X_train, X_validation, y_train, y_validation = train_test_split(X_start, y_intermediate, shuffle=False,test_size=0.25, random_state=1)"
   ]
  },
  {
   "cell_type": "code",
   "execution_count": 4,
   "metadata": {},
   "outputs": [
    {
     "name": "stdout",
     "output_type": "stream",
     "text": [
      "85.90979428285212 71.12925655457394 22\n",
      "85.74244681999784 63.672606536867626 21\n",
      "73.06217451969516 94.53784981476203 11\n",
      "74.60609066859067 92.53397030651337 12\n",
      "66.3110348195043 141.20587513706138 16\n",
      "51.70714849397591\n",
      "77.08317509708255\n",
      "58.502166683261976\n",
      "82.07640769690335\n",
      "128.52622268800815\n"
     ]
    }
   ],
   "source": [
    "from sklearn.metrics import mean_squared_error\n",
    "import math\n",
    "from math import sqrt\n",
    "def calc_train_error(X_train, y_train, model):\n",
    "    '''returns in-sample error for already fit model.'''\n",
    "    predictions = model.predict(X_train)\n",
    "    mse = mean_squared_error(y_train, predictions)\n",
    "    rmse = np.sqrt(mse)\n",
    "    return mse\n",
    "    \n",
    "def calc_validation_error(X_test, y_test, model):\n",
    "    '''returns out-of-sample error for already fit model.'''\n",
    "    predictions = model.predict(X_test)\n",
    "    mse = mean_squared_error(y_test, predictions)\n",
    "    rmse = np.sqrt(mse)\n",
    "    return mse\n",
    "\n",
    "def calc_metrics(X_train, y_train, X_test, y_test, model):\n",
    "    '''fits model and returns the RMSE for in-sample error and out-of-sample error'''\n",
    "    model.fit(X_train, y_train)\n",
    "    train_error = calc_train_error(X_train, y_train, model)\n",
    "    validation_error = calc_validation_error(X_test, y_test, model)\n",
    "    return train_error, validation_error\n",
    "\n",
    "from sklearn.model_selection import KFold\n",
    "from sklearn.model_selection import cross_val_score\n",
    "kf=KFold(n_splits=5, shuffle=True, random_state=42)\n",
    "coefs=[]\n",
    "k_range=range(1,25)\n",
    "train_errors = []\n",
    "validation_errors = []\n",
    "test_errors = []\n",
    "rmse_val={}\n",
    "optK=[]\n",
    "for train_index, val_index in kf.split(X_start, y_intermediate):\n",
    "        \n",
    "        #print(train_index, val_index)\n",
    "        # split data\n",
    "        X_train, X_val = X[train_index], X[val_index]\n",
    "        y_train, y_val = y[train_index], y[val_index]\n",
    "        #print(X_train, y_train)\n",
    "        \n",
    "        m={}\n",
    "        for i in k_range:\n",
    "            #create a new KNN model\n",
    "            knn_cv = neighbors.KNeighborsRegressor(n_neighbors=i)\n",
    "            #train model with cv of 5 \n",
    "            cv_scores = cross_val_score(knn_cv, X_train, y_train, cv=5)\n",
    "            m[i]=np.mean(cv_scores)\n",
    "        k=max(m, key=m.get)\n",
    "        optK.append(k)\n",
    "        # instantiate model\n",
    "        knn = neighbors.KNeighborsRegressor(n_neighbors=k)\n",
    "        \n",
    "        #calculate errors\n",
    "        train_error, val_error = calc_metrics(X_train, y_train, X_val, y_val, knn)\n",
    "        train_error, test_error = calc_metrics(X_train, y_train, X_test, y_test, knn)\n",
    "        print(train_error, val_error, k)\n",
    "        \n",
    "        # append to appropriate list\n",
    "        train_errors.append(math.sqrt(train_error))\n",
    "        validation_errors.append(math.sqrt(val_error))\n",
    "        \n",
    "for train_index, test_index in kf.split(X, y):\n",
    "        \n",
    "        # split data\n",
    "        X_train, X_test = X[train_index], X[test_index]\n",
    "        y_train, y_test = y[train_index], y[test_index]\n",
    "        \n",
    "        m={}\n",
    "        for i in k_range:\n",
    "            #create a new KNN model\n",
    "            knn_cv = neighbors.KNeighborsRegressor(n_neighbors=i)\n",
    "            #train model with cv of 5 \n",
    "            cv_scores = cross_val_score(knn_cv, X_train, y_train, cv=5)\n",
    "            m[i]=np.mean(cv_scores)\n",
    "        k=max(m, key=m.get)\n",
    "\n",
    "        # instantiate model\n",
    "        knn = neighbors.KNeighborsRegressor(n_neighbors=k)\n",
    "        \n",
    "        #calculate errors\n",
    "        train_error, test_error = calc_metrics(X_train, y_train, X_test, y_test, knn)\n",
    "        \n",
    "        # append to appropriate list\n",
    "        test_errors.append(math.sqrt(test_error))\n",
    "        print(test_error)\n"
   ]
  },
  {
   "cell_type": "markdown",
   "metadata": {},
   "source": [
    "# 2b  Normalising values of X and y"
   ]
  },
  {
   "cell_type": "code",
   "execution_count": 5,
   "metadata": {},
   "outputs": [],
   "source": [
    "from sklearn.preprocessing import MinMaxScaler\n",
    "#standardized_X = preprocessing.scale(X)\n",
    "scaler = MinMaxScaler(feature_range=(0, 1))\n",
    "rescaledX = scaler.fit_transform(X)\n",
    "#rescaledy = scaler.fit_transform(y)"
   ]
  },
  {
   "cell_type": "code",
   "execution_count": 6,
   "metadata": {},
   "outputs": [],
   "source": [
    "# intermediate/test split (gives us test set)\n",
    "X_start, X_test, y_start, y_test = train_test_split(rescaledX, y, test_size=0.30, random_state=1)\n",
    "#For validation train/validation split (gives us train and validation sets)\n",
    "X_train, X_validation, y_train, y_validation = train_test_split(X_start, y_start, shuffle=False,test_size=0.25, random_state=1)"
   ]
  },
  {
   "cell_type": "code",
   "execution_count": 7,
   "metadata": {},
   "outputs": [
    {
     "name": "stdout",
     "output_type": "stream",
     "text": [
      "78.0523974025974 58.23204999999999 10\n",
      "79.95705778018277 60.84690253831418 12\n",
      "68.19292087542087 58.738927203065124 6\n",
      "68.09616017316017 86.41532068965518 10\n",
      "42.89379310344828 157.55712280701752 5\n",
      "48.8104179985247\n",
      "83.09998524711091\n",
      "62.092001475288896\n",
      "72.2722313253012\n",
      "139.6551048018293\n"
     ]
    }
   ],
   "source": [
    "from sklearn.metrics import mean_squared_error\n",
    "import math\n",
    "from math import sqrt\n",
    "def calc_train_error(X_train, y_train, model):\n",
    "    '''returns in-sample error for already fit model.'''\n",
    "    predictions = model.predict(X_train)\n",
    "    mse = mean_squared_error(y_train, predictions)\n",
    "    rmse = np.sqrt(mse)\n",
    "    return mse\n",
    "    \n",
    "def calc_validation_error(X_test, y_test, model):\n",
    "    '''returns out-of-sample error for already fit model.'''\n",
    "    predictions = model.predict(X_test)\n",
    "    mse = mean_squared_error(y_test, predictions)\n",
    "    rmse = np.sqrt(mse)\n",
    "    return mse\n",
    "\n",
    "def calc_metrics(X_train, y_train, X_test, y_test, model):\n",
    "    '''fits model and returns the RMSE for in-sample error and out-of-sample error'''\n",
    "    model.fit(X_train, y_train)\n",
    "    train_error = calc_train_error(X_train, y_train, model)\n",
    "    validation_error = calc_validation_error(X_test, y_test, model)\n",
    "    return train_error, validation_error\n",
    "\n",
    "from sklearn.model_selection import KFold\n",
    "from sklearn.model_selection import cross_val_score\n",
    "kf=KFold(n_splits=5, shuffle=True, random_state=42)\n",
    "coefs=[]\n",
    "k_range=range(1,50)\n",
    "train_errors = []\n",
    "validation_errors = []\n",
    "test_errors = []\n",
    "rmse_val={}\n",
    "optK=[]\n",
    "for train_index, val_index in kf.split(X_start, y_start):\n",
    "        \n",
    "        # split data\n",
    "        X_train, X_val = rescaledX[train_index], rescaledX[val_index]\n",
    "        y_train, y_val = y[train_index], y[val_index]\n",
    "        \n",
    "        m={}\n",
    "        for i in k_range:\n",
    "            #create a new KNN model\n",
    "            knn_cv = neighbors.KNeighborsRegressor(n_neighbors=i)\n",
    "            #train model with cv of 5 \n",
    "            cv_scores = cross_val_score(knn_cv, X_train, y_train, cv=5)\n",
    "            m[i]=np.mean(cv_scores)\n",
    "        k=max(m, key=m.get)\n",
    "        optK.append(k)\n",
    "        # instantiate model\n",
    "        knn = neighbors.KNeighborsRegressor(n_neighbors=k)\n",
    "        \n",
    "        #calculate errors\n",
    "        train_error, val_error = calc_metrics(X_train, y_train, X_val, y_val, knn)\n",
    "        train_error, test_error = calc_metrics(X_train, y_train, X_test, y_test, knn)\n",
    "        \n",
    "        # append to appropriate list\n",
    "        train_errors.append(math.sqrt(train_error))\n",
    "        validation_errors.append(math.sqrt(val_error))\n",
    "        print(train_error, val_error, k)\n",
    "        \n",
    "for train_index, test_index in kf.split(rescaledX, y):\n",
    "        \n",
    "        # split data\n",
    "        X_train, X_test = rescaledX[train_index], rescaledX[test_index]\n",
    "        y_train, y_test = y[train_index], y[test_index]\n",
    "        \n",
    "        m={}\n",
    "        for i in k_range:\n",
    "            #create a new KNN model\n",
    "            knn_cv = neighbors.KNeighborsRegressor(n_neighbors=i)\n",
    "            #train model with cv of 5 \n",
    "            cv_scores = cross_val_score(knn_cv, X_train, y_train, cv=5)\n",
    "            m[i]=np.mean(cv_scores)\n",
    "        k=max(m, key=m.get)\n",
    "\n",
    "        # instantiate model\n",
    "        knn = neighbors.KNeighborsRegressor(n_neighbors=k)\n",
    "        \n",
    "        #calculate errors\n",
    "        train_error, test_error = calc_metrics(X_train, y_train, X_test, y_test, knn)\n",
    "        \n",
    "        # append to appropriate list\n",
    "        test_errors.append(math.sqrt(test_error))\n",
    "        print(test_error)"
   ]
  },
  {
   "cell_type": "markdown",
   "metadata": {},
   "source": [
    "# 2 c Test-train curve"
   ]
  },
  {
   "cell_type": "code",
   "execution_count": 8,
   "metadata": {},
   "outputs": [],
   "source": [
    "X_train, X_test, y_train, y_test = train_test_split(rescaledX, y, shuffle=False,test_size=0.20, random_state=1)"
   ]
  },
  {
   "cell_type": "code",
   "execution_count": 9,
   "metadata": {},
   "outputs": [
    {
     "data": {
      "image/png": "[encoded data removed]",
      "text/plain": [
       "<Figure size 432x288 with 1 Axes>"
      ]
     },
     "metadata": {
      "needs_background": "light"
     },
     "output_type": "display_data"
    }
   ],
   "source": [
    "testError=[]\n",
    "trainError=[]\n",
    "test={}\n",
    "K = range(1,25)\n",
    "for a in K:\n",
    "    knn = neighbors.KNeighborsRegressor(n_neighbors=a)\n",
    "    knn.fit(X_train, y_train)\n",
    "    y_predict_test = knn.predict(X_test)\n",
    "    mse_test = mean_squared_error(y_test, y_predict_test)\n",
    "    rmse_test = np.sqrt(mse_test)\n",
    "    y_predict_train = knn.predict(X_train)\n",
    "    mse_train = mean_squared_error(y_train, y_predict_train)\n",
    "    rmse_train = np.sqrt(mse_train)\n",
    "    trainError.append(rmse_train)\n",
    "    testError.append(rmse_test)\n",
    "plt.plot(K, testError, alpha=0.75, color='b')\n",
    "plt.plot(K, trainError, alpha=0.75, color='r')\n",
    "plt.xlabel('K')\n",
    "plt.ylabel('error')\n",
    "plt.title('Train,test error vs K')\n",
    "plt.show()"
   ]
  },
  {
   "cell_type": "markdown",
   "metadata": {},
   "source": [
    "# 2 c"
   ]
  },
  {
   "cell_type": "code",
   "execution_count": 10,
   "metadata": {},
   "outputs": [
    {
     "ename": "ValueError",
     "evalue": "Expected 2D array, got 1D array instead:\narray=[0.80145278 0.72707424 0.58447489 0.69552341 0.         0.19619486\n 0.24088851].\nReshape your data either using array.reshape(-1, 1) if your data has a single feature or array.reshape(1, -1) if it contains a single sample.",
     "output_type": "error",
     "traceback": [
      "\u001b[1;31m---------------------------------------------------------------------------\u001b[0m",
      "\u001b[1;31mValueError\u001b[0m                                Traceback (most recent call last)",
      "\u001b[1;32m<ipython-input-10-3b68a2b83e6c>\u001b[0m in \u001b[0;36m<module>\u001b[1;34m\u001b[0m\n\u001b[0;32m      3\u001b[0m     \u001b[0mi\u001b[0m\u001b[1;33m.\u001b[0m\u001b[0mreshape\u001b[0m\u001b[1;33m(\u001b[0m\u001b[1;33m-\u001b[0m\u001b[1;36m1\u001b[0m\u001b[1;33m,\u001b[0m\u001b[1;36m1\u001b[0m\u001b[1;33m)\u001b[0m\u001b[1;33m\u001b[0m\u001b[1;33m\u001b[0m\u001b[0m\n\u001b[0;32m      4\u001b[0m     \u001b[0mknn\u001b[0m\u001b[1;33m.\u001b[0m\u001b[0mfit\u001b[0m\u001b[1;33m(\u001b[0m\u001b[0mX_train\u001b[0m\u001b[1;33m,\u001b[0m \u001b[0my_train\u001b[0m\u001b[1;33m)\u001b[0m\u001b[1;33m\u001b[0m\u001b[1;33m\u001b[0m\u001b[0m\n\u001b[1;32m----> 5\u001b[1;33m     \u001b[0my_predict_test\u001b[0m \u001b[1;33m=\u001b[0m \u001b[0mknn\u001b[0m\u001b[1;33m.\u001b[0m\u001b[0mpredict\u001b[0m\u001b[1;33m(\u001b[0m\u001b[0mi\u001b[0m\u001b[1;33m)\u001b[0m\u001b[1;33m\u001b[0m\u001b[1;33m\u001b[0m\u001b[0m\n\u001b[0m\u001b[0;32m      6\u001b[0m     \u001b[0mmse_test\u001b[0m \u001b[1;33m=\u001b[0m \u001b[0mmean_squared_error\u001b[0m\u001b[1;33m(\u001b[0m\u001b[0my_test\u001b[0m\u001b[1;33m,\u001b[0m \u001b[0my_predict_test\u001b[0m\u001b[1;33m)\u001b[0m\u001b[1;33m\u001b[0m\u001b[1;33m\u001b[0m\u001b[0m\n\u001b[0;32m      7\u001b[0m     \u001b[0mrmse_test\u001b[0m \u001b[1;33m=\u001b[0m \u001b[0mnp\u001b[0m\u001b[1;33m.\u001b[0m\u001b[0msqrt\u001b[0m\u001b[1;33m(\u001b[0m\u001b[0mmse_test\u001b[0m\u001b[1;33m)\u001b[0m\u001b[1;33m\u001b[0m\u001b[1;33m\u001b[0m\u001b[0m\n",
      "\u001b[1;32m~\\Anaconda3\\lib\\site-packages\\sklearn\\neighbors\\regression.py\u001b[0m in \u001b[0;36mpredict\u001b[1;34m(self, X)\u001b[0m\n\u001b[0;32m    153\u001b[0m                 \u001b[1;34m\"precomputed kernels. Densify your matrix.\"\u001b[0m\u001b[1;33m\u001b[0m\u001b[1;33m\u001b[0m\u001b[0m\n\u001b[0;32m    154\u001b[0m             )\n\u001b[1;32m--> 155\u001b[1;33m         \u001b[0mX\u001b[0m \u001b[1;33m=\u001b[0m \u001b[0mcheck_array\u001b[0m\u001b[1;33m(\u001b[0m\u001b[0mX\u001b[0m\u001b[1;33m,\u001b[0m \u001b[0maccept_sparse\u001b[0m\u001b[1;33m=\u001b[0m\u001b[1;34m'csr'\u001b[0m\u001b[1;33m)\u001b[0m\u001b[1;33m\u001b[0m\u001b[1;33m\u001b[0m\u001b[0m\n\u001b[0m\u001b[0;32m    156\u001b[0m \u001b[1;33m\u001b[0m\u001b[0m\n\u001b[0;32m    157\u001b[0m         \u001b[0mneigh_dist\u001b[0m\u001b[1;33m,\u001b[0m \u001b[0mneigh_ind\u001b[0m \u001b[1;33m=\u001b[0m \u001b[0mself\u001b[0m\u001b[1;33m.\u001b[0m\u001b[0mkneighbors\u001b[0m\u001b[1;33m(\u001b[0m\u001b[0mX\u001b[0m\u001b[1;33m)\u001b[0m\u001b[1;33m\u001b[0m\u001b[1;33m\u001b[0m\u001b[0m\n",
      "\u001b[1;32m~\\Anaconda3\\lib\\site-packages\\sklearn\\utils\\validation.py\u001b[0m in \u001b[0;36mcheck_array\u001b[1;34m(array, accept_sparse, accept_large_sparse, dtype, order, copy, force_all_finite, ensure_2d, allow_nd, ensure_min_samples, ensure_min_features, warn_on_dtype, estimator)\u001b[0m\n\u001b[0;32m    550\u001b[0m                     \u001b[1;34m\"Reshape your data either using array.reshape(-1, 1) if \"\u001b[0m\u001b[1;33m\u001b[0m\u001b[1;33m\u001b[0m\u001b[0m\n\u001b[0;32m    551\u001b[0m                     \u001b[1;34m\"your data has a single feature or array.reshape(1, -1) \"\u001b[0m\u001b[1;33m\u001b[0m\u001b[1;33m\u001b[0m\u001b[0m\n\u001b[1;32m--> 552\u001b[1;33m                     \"if it contains a single sample.\".format(array))\n\u001b[0m\u001b[0;32m    553\u001b[0m \u001b[1;33m\u001b[0m\u001b[0m\n\u001b[0;32m    554\u001b[0m         \u001b[1;31m# in the future np.flexible dtypes will be handled like object dtypes\u001b[0m\u001b[1;33m\u001b[0m\u001b[1;33m\u001b[0m\u001b[1;33m\u001b[0m\u001b[0m\n",
      "\u001b[1;31mValueError\u001b[0m: Expected 2D array, got 1D array instead:\narray=[0.80145278 0.72707424 0.58447489 0.69552341 0.         0.19619486\n 0.24088851].\nReshape your data either using array.reshape(-1, 1) if your data has a single feature or array.reshape(1, -1) if it contains a single sample."
     ]
    }
   ],
   "source": [
    "for i in X_test:\n",
    "    knn = neighbors.KNeighborsRegressor(n_neighbors=a)\n",
    "    i.reshape(-1,1)\n",
    "    knn.fit(X_train, y_train)\n",
    "    y_predict_test = knn.predict(i)\n",
    "    mse_test = mean_squared_error(y_test, y_predict_test)\n",
    "    rmse_test = np.sqrt(mse_test)\n",
    "    print(rmse_test)"
   ]
  },
  {
   "cell_type": "code",
   "execution_count": null,
   "metadata": {},
   "outputs": [],
   "source": []
  }
 ],
 "metadata": {
  "kernelspec": {
   "display_name": "Python 3",
   "language": "python",
   "name": "python3"
  },
  "language_info": {
   "codemirror_mode": {
    "name": "ipython",
    "version": 3
   },
   "file_extension": ".py",
   "mimetype": "text/x-python",
   "name": "python",
   "nbconvert_exporter": "python",
   "pygments_lexer": "ipython3",
   "version": "3.7.1"
  }
 },
 "nbformat": 4,
 "nbformat_minor": 2
}
