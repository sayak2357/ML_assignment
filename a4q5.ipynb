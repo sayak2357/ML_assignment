{
 "cells": [
  {
   "cell_type": "markdown",
   "metadata": {},
   "source": [
    "# 5.a)"
   ]
  },
  {
   "cell_type": "code",
   "execution_count": 1,
   "metadata": {},
   "outputs": [],
   "source": [
    "import pandas as pd\n",
    "import sklearn\n",
    "file = pd.read_csv(\"realstate.csv\")\n",
    "file.head(5)\n",
    "from sklearn.linear_model import LinearRegression\n",
    "\n",
    "X = file[['X1 transaction date', 'X2 house age', 'X3 distance to the nearest MRT station',\n",
    "               'X4 number of convenience stores', 'X5 latitude',\"X6 longitude\"]]\n",
    "y = file['Y house price of unit area']\n",
    "\n",
    "# test-train split\n",
    "X_train, X_test, y_train, y_test = sklearn.model_selection.train_test_split(X, y, test_size=0.33, random_state=101)"
   ]
  },
  {
   "cell_type": "code",
   "execution_count": 2,
   "metadata": {},
   "outputs": [],
   "source": [
    "X1,X2,X3,X4,X5 = X_train[0:66],X_train[66:130],X_train[130:195],X_train[195:260],X_train[260:331]\n",
    "y1,y2,y3,y4,y5 = y_train[0:66],y_train[66:130],y_train[130:195],y_train[195:260],y_train[260:331]\n",
    "z1 = [X1,X2,X3,X4,X5]\n",
    "z2 = [y1,y2,y3,y4,y5]"
   ]
  },
  {
   "cell_type": "code",
   "execution_count": 3,
   "metadata": {},
   "outputs": [
    {
     "name": "stdout",
     "output_type": "stream",
     "text": [
      "8.237824759002583\n",
      "[ 4.02684213 -0.25915559 -0.0057322   1.03839668  4.76242257 -1.1951185 ]\n"
     ]
    }
   ],
   "source": [
    "from sklearn.linear_model import Ridge\n",
    "import pandas as pd\n",
    "import math\n",
    "from sklearn.metrics import mean_squared_error as mse\n",
    "opt_score = 99999999999999999999\n",
    "opt_coef = [0,0,0,0,0,0,0]\n",
    "for i in range(0,5):\n",
    "    X = pd.concat([z1[(i+1)%5],z1[(i+2)%5],z1[(i+3)%5],z1[(i+4)%5]])\n",
    "    y = pd.concat([z2[(i+1)%5],z2[(i+2)%5],z2[(i+3)%5],z2[(i+4)%5]])\n",
    "    test_x = z1[i]\n",
    "    test_y = z2[i]\n",
    "    clf = Ridge(alpha=1.0)\n",
    "    clf.fit(X, y)\n",
    "    predict = clf.predict(test_x)\n",
    "    score = mse(test_y,predict)\n",
    "    if(opt_score>math.sqrt(score)):\n",
    "        opt_score = math.sqrt(score)\n",
    "        opt_coef = clf.coef_\n",
    "print(opt_score)\n",
    "print(opt_coef)"
   ]
  },
  {
   "cell_type": "code",
   "execution_count": 15,
   "metadata": {},
   "outputs": [
    {
     "name": "stdout",
     "output_type": "stream",
     "text": [
      "in  1  fold the RMSE in cross validation is 9.932749841190306\n",
      "in  2  fold the RMSE in cross validation is 9.985505698911938\n",
      "in  3  fold the RMSE in cross validation is 9.99420644331381\n",
      "in  4  fold the RMSE in cross validation is 9.997343753191734\n",
      "in  5  fold the RMSE in cross validation is 10.005404554711502\n",
      "in  6  fold the RMSE in cross validation is 10.01547532505464\n",
      "in  7  fold the RMSE in cross validation is 10.0253698554258\n",
      "in  8  fold the RMSE in cross validation is 10.034319224668284\n",
      "in  9  fold the RMSE in cross validation is 10.042208148377785\n",
      "Optimal score of the in cross validation is:  9.932749841190306  at alpha:   0.1\n",
      "[ 4.02684213 -0.25915559 -0.0057322   1.03839668  4.76242257 -1.1951185 ]\n"
     ]
    }
   ],
   "source": [
    "from sklearn.linear_model import Ridge\n",
    "import math\n",
    "from sklearn.metrics import mean_squared_error as mse\n",
    "opt_score = 99999999999999999999\n",
    "alpha_val = [.1,.5,1,1.5,5,10,15,20,25]\n",
    "opt_alpha = 0\n",
    "k = 1\n",
    "for j in alpha_val:\n",
    "    score1 = []\n",
    "    for i in range(0,5):\n",
    "        X = pd.concat([z1[(i+1)%5],z1[(i+2)%5],z1[(i+3)%5],z1[(i+4)%5]])\n",
    "        y = pd.concat([z2[(i+1)%5],z2[(i+2)%5],z2[(i+3)%5],z2[(i+4)%5]])\n",
    "        test_x = z1[i]\n",
    "        test_y = z2[i]\n",
    "        clf = Ridge(alpha=j)\n",
    "        clf.fit(X, y)\n",
    "        predict = clf.predict(test_x)\n",
    "        score = mse(test_y,predict)\n",
    "        score1.append(math.sqrt(score))\n",
    "    print(\"in \",k,\" fold the RMSE in cross validation is\",sum(score1)/len(score1))\n",
    "    if(opt_score>(sum(score1)/len(score1))):\n",
    "        opt_score = sum(score1)/len(score1)\n",
    "        opt_alpha = j\n",
    "    k = k+1\n",
    "print(\"Optimal score of the in cross validation is: \",opt_score,\" at alpha:  \",opt_alpha)\n",
    "print(opt_coef)"
   ]
  },
  {
   "cell_type": "markdown",
   "metadata": {},
   "source": [
    "# 5.b)"
   ]
  },
  {
   "cell_type": "code",
   "execution_count": 4,
   "metadata": {},
   "outputs": [
    {
     "name": "stdout",
     "output_type": "stream",
     "text": [
      "in  1  fold the RMSE in cross validation is 10.021253719023443\n",
      "in  2  fold the RMSE in cross validation is 10.14249067863154\n",
      "in  3  fold the RMSE in cross validation is 10.17388016553536\n",
      "in  4  fold the RMSE in cross validation is 10.21001272257435\n",
      "in  5  fold the RMSE in cross validation is 10.582606423571258\n",
      "in  6  fold the RMSE in cross validation is 10.6862498793779\n",
      "in  7  fold the RMSE in cross validation is 10.709204670182828\n",
      "in  8  fold the RMSE in cross validation is 10.753256772105631\n",
      "in  9  fold the RMSE in cross validation is 10.81457210113407\n",
      "Optimal score of the in cross validation is:  10.021253719023443  at alpha:   0.1\n",
      "[ 4.02684213 -0.25915559 -0.0057322   1.03839668  4.76242257 -1.1951185 ]\n"
     ]
    }
   ],
   "source": [
    "from sklearn.linear_model import Lasso\n",
    "import math\n",
    "from sklearn.metrics import mean_squared_error as mse\n",
    "opt_score = 99999999999999999999\n",
    "alpha_val = [.1,.5,1,1.5,5,10,15,20,25]\n",
    "opt_alpha = 0\n",
    "k = 1\n",
    "for j in alpha_val:\n",
    "    score1 = []\n",
    "    for i in range(0,5):\n",
    "        X = pd.concat([z1[(i+1)%5],z1[(i+2)%5],z1[(i+3)%5],z1[(i+4)%5]])\n",
    "        y = pd.concat([z2[(i+1)%5],z2[(i+2)%5],z2[(i+3)%5],z2[(i+4)%5]])\n",
    "        test_x = z1[i]\n",
    "        test_y = z2[i]\n",
    "        clf = Lasso(alpha=j)\n",
    "        clf.fit(X, y)\n",
    "        predict = clf.predict(test_x)\n",
    "        score = mse(test_y,predict)\n",
    "        score1.append(math.sqrt(score))\n",
    "    print(\"in \",k,\" fold the RMSE in cross validation is\",sum(score1)/len(score1))\n",
    "    if(opt_score>(sum(score1)/len(score1))):\n",
    "        opt_score = sum(score1)/len(score1)\n",
    "        opt_alpha = j\n",
    "    k = k+1\n",
    "print(\"Optimal score of the in cross validation is: \",opt_score,\" at alpha:  \",opt_alpha)\n",
    "print(opt_coef)"
   ]
  },
  {
   "cell_type": "markdown",
   "metadata": {},
   "source": [
    "# 5.c)"
   ]
  },
  {
   "cell_type": "code",
   "execution_count": 8,
   "metadata": {},
   "outputs": [
    {
     "name": "stderr",
     "output_type": "stream",
     "text": [
      "No handles with labels found to put in legend.\n"
     ]
    },
    {
     "data": {
      "text/plain": [
       "(0.06309573444801936,\n",
       " 1584.8931924611109,\n",
       " -190.86835596571598,\n",
       " 674.5480739402583)"
      ]
     },
     "execution_count": 8,
     "metadata": {},
     "output_type": "execute_result"
    },
    {
     "data": {
      "image/png": "[encoded data removed]",
      "text/plain": [
       "<Figure size 864x504 with 1 Axes>"
      ]
     },
     "metadata": {},
     "output_type": "display_data"
    }
   ],
   "source": [
    "import numpy as np\n",
    "import matplotlib.pyplot as plt\n",
    "\n",
    "def soft_threshold(rho,lamda):\n",
    "    if rho < - lamda:\n",
    "        return (rho + lamda)\n",
    "    elif rho >  lamda:\n",
    "        return (rho - lamda)\n",
    "    else: \n",
    "        return 0\n",
    "    \n",
    "\n",
    "def coordinate_descent_lasso(theta,X,y,lamda = .01, num_iters=100, intercept = False):\n",
    "    \n",
    "    #Initialisation of useful values \n",
    "    m,n = X.shape\n",
    "    X = X / (np.linalg.norm(X,axis = 0)) #normalizing X in case it was not done before\n",
    "    \n",
    "    #Looping until max number of iterations\n",
    "    for i in range(num_iters): \n",
    "        \n",
    "        #Looping through each coordinate\n",
    "        for j in range(n):\n",
    "            \n",
    "            #Vectorized implementation\n",
    "            X_j = X[:,j].reshape(-1,1)\n",
    "            y_pred = X @ theta\n",
    "            rho = X_j.T @ (y - y_pred  + theta[j]*X_j)\n",
    "        \n",
    "            #Checking intercept parameter\n",
    "            if intercept == True:  \n",
    "                if j == 0: \n",
    "                    theta[j] =  rho \n",
    "                else:\n",
    "                    theta[j] =  soft_threshold(rho, lamda)  \n",
    "\n",
    "            if intercept == False:\n",
    "                theta[j] =  soft_threshold(rho, lamda)   \n",
    "            \n",
    "    return theta.flatten()\n",
    "X = X_train.values\n",
    "y = y_train.values.reshape(-1,1)\n",
    "m,n = X.shape\n",
    "initial_theta = np.ones((n,1))\n",
    "theta_list = list()\n",
    "lamda = np.logspace(0,4,300)/10 #Range of lambda values\n",
    "\n",
    "for l in lamda:\n",
    "    theta = coordinate_descent_lasso(initial_theta,X,y,lamda = l, num_iters=100)\n",
    "    theta_list.append(theta)\n",
    "\n",
    "#Stack into numpy array\n",
    "theta_lasso = np.stack(theta_list).T\n",
    "\n",
    "#Plot results\n",
    "n,_ = theta_lasso.shape\n",
    "plt.figure(figsize = (12,7))\n",
    "\n",
    "for i in range(n):\n",
    "    plt.plot(lamda, theta_lasso[i])#, label = diabetes.feature_names[i])\n",
    "\n",
    "plt.xscale('log')\n",
    "plt.xlabel('Log($\\\\lambda$)')\n",
    "plt.ylabel('Coefficients')\n",
    "plt.title('Lasso Paths - Numpy implementation')\n",
    "plt.legend()\n",
    "plt.axis('tight')"
   ]
  },
  {
   "cell_type": "markdown",
   "metadata": {},
   "source": [
    "# 5.d)"
   ]
  },
  {
   "cell_type": "code",
   "execution_count": 9,
   "metadata": {},
   "outputs": [],
   "source": [
    "from sklearn.linear_model import Ridge\n",
    "import math\n",
    "from sklearn.metrics import mean_squared_error as mse\n",
    "opt_score = 99999999999999999999\n",
    "lambda1 = [.1]\n",
    "for k in range(2,50,2):\n",
    "    lambda1.append(k)\n",
    "score1 = []\n",
    "score2 = []\n",
    "for j in lambda1:\n",
    "        clf = Ridge(alpha=j)\n",
    "        clf.fit(X_train, y_train)\n",
    "        predict1 = clf.predict(X_test)\n",
    "        predict2 = clf.predict(X_train)\n",
    "        cv_score = mse(y_test,predict1)\n",
    "        train_score = mse(y_train,predict2)\n",
    "        score1.append(math.sqrt(cv_score))\n",
    "        score2.append(math.sqrt(train_score))"
   ]
  },
  {
   "cell_type": "code",
   "execution_count": 10,
   "metadata": {},
   "outputs": [
    {
     "data": {
      "image/png": "[encoded data removed]",
      "text/plain": [
       "<Figure size 432x288 with 1 Axes>"
      ]
     },
     "metadata": {},
     "output_type": "display_data"
    }
   ],
   "source": [
    "import matplotlib.pyplot as plt\n",
    "plt.plot(lambda1,score1)\n",
    "plt.plot(lambda1,score2)\n",
    "plt.xlabel(\"lambda\")\n",
    "plt.ylabel(\"Mean squared error\")\n",
    "plt.show()"
   ]
  },
  {
   "cell_type": "code",
   "execution_count": 13,
   "metadata": {},
   "outputs": [],
   "source": [
    "from sklearn.linear_model import Lasso\n",
    "import math\n",
    "from sklearn.metrics import mean_squared_error as mse\n",
    "opt_score = 99999999999999999999\n",
    "lambda1 = [.5]\n",
    "for k in range(2,50,2):\n",
    "    lambda1.append(k)\n",
    "score1 = []\n",
    "score2 = []\n",
    "for j in lambda1:\n",
    "        clf = Lasso(alpha=j)\n",
    "        clf.fit(X_train, y_train)\n",
    "        predict1 = clf.predict(X_test)\n",
    "        predict2 = clf.predict(X_train)\n",
    "        cv_score = mse(y_test,predict1)\n",
    "        train_score = mse(y_train,predict2)\n",
    "        score1.append(math.sqrt(cv_score))\n",
    "        score2.append(math.sqrt(train_score))"
   ]
  },
  {
   "cell_type": "code",
   "execution_count": 14,
   "metadata": {},
   "outputs": [
    {
     "data": {
      "image/png": "[encoded data removed]",
      "text/plain": [
       "<Figure size 432x288 with 1 Axes>"
      ]
     },
     "metadata": {},
     "output_type": "display_data"
    }
   ],
   "source": [
    "import matplotlib.pyplot as plt\n",
    "plt.plot(lambda1,score1,label = \"xyz\")\n",
    "plt.plot(lambda1,score2,label = \"pqr\")\n",
    "plt.xlabel(\"lambda\")\n",
    "plt.ylabel(\"Mean squared error\")\n",
    "plt.title(\"RMSE for train and test with lambda\")\n",
    "plt.show()"
   ]
  },
  {
   "cell_type": "code",
   "execution_count": null,
   "metadata": {},
   "outputs": [],
   "source": []
  }
 ],
 "metadata": {
  "kernelspec": {
   "display_name": "Python 3",
   "language": "python",
   "name": "python3"
  },
  "language_info": {
   "codemirror_mode": {
    "name": "ipython",
    "version": 3
   },
   "file_extension": ".py",
   "mimetype": "text/x-python",
   "name": "python",
   "nbconvert_exporter": "python",
   "pygments_lexer": "ipython3",
   "version": "3.6.6"
  }
 },
 "nbformat": 4,
 "nbformat_minor": 2
}
