{
 "cells": [
  {
   "cell_type": "code",
   "execution_count": 11,
   "metadata": {},
   "outputs": [],
   "source": [
    "import math\n",
    "import pandas as pd\n",
    "import numpy as np\n",
    "from sklearn.linear_model import LinearRegression as LR \n",
    "from sklearn.model_selection import train_test_split"
   ]
  },
  {
   "cell_type": "code",
   "execution_count": 12,
   "metadata": {},
   "outputs": [
    {
     "data": {
      "text/html": [
       "<div>\n",
       "<style scoped>\n",
       "    .dataframe tbody tr th:only-of-type {\n",
       "        vertical-align: middle;\n",
       "    }\n",
       "\n",
       "    .dataframe tbody tr th {\n",
       "        vertical-align: top;\n",
       "    }\n",
       "\n",
       "    .dataframe thead th {\n",
       "        text-align: right;\n",
       "    }\n",
       "</style>\n",
       "<table border=\"1\" class=\"dataframe\">\n",
       "  <thead>\n",
       "    <tr style=\"text-align: right;\">\n",
       "      <th></th>\n",
       "      <th>No</th>\n",
       "      <th>X1 transaction date</th>\n",
       "      <th>X2 house age</th>\n",
       "      <th>X3 distance to the nearest MRT station</th>\n",
       "      <th>X4 number of convenience stores</th>\n",
       "      <th>X5 latitude</th>\n",
       "      <th>X6 longitude</th>\n",
       "      <th>Y house price of unit area</th>\n",
       "    </tr>\n",
       "  </thead>\n",
       "  <tbody>\n",
       "    <tr>\n",
       "      <th>0</th>\n",
       "      <td>1</td>\n",
       "      <td>2012.917</td>\n",
       "      <td>32.0</td>\n",
       "      <td>84.87882</td>\n",
       "      <td>10</td>\n",
       "      <td>24.98298</td>\n",
       "      <td>121.54024</td>\n",
       "      <td>37.9</td>\n",
       "    </tr>\n",
       "    <tr>\n",
       "      <th>1</th>\n",
       "      <td>2</td>\n",
       "      <td>2012.917</td>\n",
       "      <td>19.5</td>\n",
       "      <td>306.59470</td>\n",
       "      <td>9</td>\n",
       "      <td>24.98034</td>\n",
       "      <td>121.53951</td>\n",
       "      <td>42.2</td>\n",
       "    </tr>\n",
       "    <tr>\n",
       "      <th>2</th>\n",
       "      <td>3</td>\n",
       "      <td>2013.583</td>\n",
       "      <td>13.3</td>\n",
       "      <td>561.98450</td>\n",
       "      <td>5</td>\n",
       "      <td>24.98746</td>\n",
       "      <td>121.54391</td>\n",
       "      <td>47.3</td>\n",
       "    </tr>\n",
       "    <tr>\n",
       "      <th>3</th>\n",
       "      <td>4</td>\n",
       "      <td>2013.500</td>\n",
       "      <td>13.3</td>\n",
       "      <td>561.98450</td>\n",
       "      <td>5</td>\n",
       "      <td>24.98746</td>\n",
       "      <td>121.54391</td>\n",
       "      <td>54.8</td>\n",
       "    </tr>\n",
       "    <tr>\n",
       "      <th>4</th>\n",
       "      <td>5</td>\n",
       "      <td>2012.833</td>\n",
       "      <td>5.0</td>\n",
       "      <td>390.56840</td>\n",
       "      <td>5</td>\n",
       "      <td>24.97937</td>\n",
       "      <td>121.54245</td>\n",
       "      <td>43.1</td>\n",
       "    </tr>\n",
       "  </tbody>\n",
       "</table>\n",
       "</div>"
      ],
      "text/plain": [
       "   No  X1 transaction date  X2 house age  \\\n",
       "0   1             2012.917          32.0   \n",
       "1   2             2012.917          19.5   \n",
       "2   3             2013.583          13.3   \n",
       "3   4             2013.500          13.3   \n",
       "4   5             2012.833           5.0   \n",
       "\n",
       "   X3 distance to the nearest MRT station  X4 number of convenience stores  \\\n",
       "0                                84.87882                               10   \n",
       "1                               306.59470                                9   \n",
       "2                               561.98450                                5   \n",
       "3                               561.98450                                5   \n",
       "4                               390.56840                                5   \n",
       "\n",
       "   X5 latitude  X6 longitude  Y house price of unit area  \n",
       "0     24.98298     121.54024                        37.9  \n",
       "1     24.98034     121.53951                        42.2  \n",
       "2     24.98746     121.54391                        47.3  \n",
       "3     24.98746     121.54391                        54.8  \n",
       "4     24.97937     121.54245                        43.1  "
      ]
     },
     "execution_count": 12,
     "metadata": {},
     "output_type": "execute_result"
    }
   ],
   "source": [
    "real = pd.read_csv('realstate.csv')\n",
    "real.head(5)"
   ]
  },
  {
   "cell_type": "code",
   "execution_count": 13,
   "metadata": {},
   "outputs": [],
   "source": [
    "y = real['Y house price of unit area']\n",
    "\n",
    "X = real[['X1 transaction date','X2 house age','X3 distance to the nearest MRT station','X4 number of convenience stores','X5 latitude','X6 longitude']]"
   ]
  },
  {
   "cell_type": "code",
   "execution_count": 14,
   "metadata": {},
   "outputs": [],
   "source": [
    "\n",
    "X_train, X_test, y_train, y_test = train_test_split(X, y, test_size=0.70, random_state=42)"
   ]
  },
  {
   "cell_type": "code",
   "execution_count": 18,
   "metadata": {},
   "outputs": [],
   "source": [
    "from sklearn.linear_model import LinearRegression\n",
    "from sklearn.metrics import mean_squared_error\n",
    "import math\n",
    "def gredientDescentRegress(X,Y):\n",
    "    model = LR()\n",
    "    model.fit(X,Y)\n",
    "    x = model.coef_\n",
    "    return x"
   ]
  },
  {
   "cell_type": "code",
   "execution_count": 15,
   "metadata": {},
   "outputs": [
    {
     "name": "stdout",
     "output_type": "stream",
     "text": [
      "Length of the train data : 124\n",
      "**************************************************************************\n",
      "Co-efficients of the given matrix: [-1.29518513e+04  5.47753534e+00 -2.84728468e-01 -4.97750816e-03\n",
      "  1.12467345e+00  3.16635161e+02 -4.88536662e+01]\n",
      "RMSE over the normal data: 8.173711693415923\n"
     ]
    },
    {
     "name": "stderr",
     "output_type": "stream",
     "text": [
      "d:\\geek_stuff\\python3.6\\lib\\site-packages\\ipykernel_launcher.py:32: RuntimeWarning: overflow encountered in double_scalars\n",
      "d:\\geek_stuff\\python3.6\\lib\\site-packages\\ipykernel_launcher.py:18: RuntimeWarning: invalid value encountered in subtract\n"
     ]
    }
   ],
   "source": [
    "def gradientDescentRegression(X_train, y_train):  \n",
    "    print(\"Length of the train data :\",len(X_train))\n",
    "    print(\"**************************************************************************\")\n",
    "    X1 = X_train.values      # converting the pandas dataframe into numpy ndarray\n",
    "    Y1 = y_train.values     # converting the pandas dataframe into numpy ndarray\n",
    "    X1 = np.c_[np.ones(len(X1)),X1]     # adding one in the matrix to find d+1 weight vector\n",
    "    theta = np.full((len(X1[0])), 0, dtype=float)   #defining theta with default values as zero \n",
    "    d1 = np.dot(X1.T,X1)\n",
    "    d2 =  np.dot(X1.T,Y1)\n",
    "    d3 = np.linalg.inv(d1)\n",
    "    m = len(Y1)\n",
    "    learning_rate = .1\n",
    "    theta = np.dot(d3,d2)\n",
    "    opt_theta = theta\n",
    "    prev_error = 0\n",
    "    for i in range(0,100):\n",
    "        prediction = np.dot(X1,theta)\n",
    "        theta = theta -(1/m)*learning_rate*( X1.T.dot((prediction - Y1)))\n",
    "        rmse = calculateacc(X_train,y_train,theta)\n",
    "        if(prev_error > rmse or prev_error==0):\n",
    "            prev_error = rmse\n",
    "            opt_theta = theta\n",
    "    return opt_theta\n",
    "def calculateacc(X1,Y1,theta):\n",
    "    X1 = X1.values\n",
    "    Y1 = Y1.values\n",
    "    X2 = np.c_[np.ones(len(X1)),X1]\n",
    "    prediction = np.dot(X2,theta)\n",
    "    error = prediction - Y1\n",
    "    rmse = 0\n",
    "    for i in range(len(Y1)):\n",
    "        rmse = rmse + error[i]**2\n",
    "    return math.sqrt(rmse/len(Y1))\n",
    "theta = gradientDescentRegression(X_train, y_train)    \n",
    "print(\"Co-efficients of the given matrix:\",theta)\n",
    "rmse = calculateacc(X_test,y_test,theta)\n",
    "print(\"RMSE over the normal data:\",rmse)"
   ]
  },
  {
   "cell_type": "code",
   "execution_count": 19,
   "metadata": {},
   "outputs": [
    {
     "name": "stdout",
     "output_type": "stream",
     "text": [
      "Length of the train data : 201\n",
      "**************************************************************************\n",
      "Co-efficients of the given matrix by using gredient descent: [[ 8.82345679e+03]\n",
      " [-8.29838982e-01]\n",
      " [-9.49807119e+01]\n",
      " [ 7.53749194e+02]\n",
      " [ 3.57964532e+03]\n",
      " [-5.75536517e+04]]\n",
      "Co-efficients of the given matrix by using sklearn: [[ 3.65204554e+00 -9.47499055e+01  7.53760679e+02  3.57964584e+03\n",
      "  -5.75536517e+04]]\n"
     ]
    },
    {
     "name": "stderr",
     "output_type": "stream",
     "text": [
      "d:\\geek_stuff\\python3.6\\lib\\site-packages\\ipykernel_launcher.py:32: RuntimeWarning: overflow encountered in square\n"
     ]
    }
   ],
   "source": [
    "# for p = 5\n",
    "import numpy as np\n",
    "import pandas as pd\n",
    "\n",
    "x = np.arange(0, 20.1, 0.1)\n",
    "np.random.seed(0)\n",
    "y = 1*x**5 + 3*x**4 - 100*x**3 + 8*x**2 -300*x - 1e5+np.random.randn(len(x))*1e5\n",
    "x_z = np.ndarray(shape=(201,5), dtype=float, order='F')\n",
    "#print(len(y))\n",
    "for i in range(0,len(x)):\n",
    "    x_z[i] = ([x[i]**5,x[i]**4,x[i]**3,x[i]**2,x[i]**1])\n",
    "dx = pd.DataFrame(x_z)\n",
    "dy = pd.DataFrame(y)\n",
    "theta = gradientDescentRegression(dx,dy)    \n",
    "print(\"Co-efficients of the given matrix by using gredient descent:\",theta)\n",
    "theta = gredientDescentRegress(dx,dy)    \n",
    "print(\"Co-efficients of the given matrix by using sklearn:\",theta)"
   ]
  },
  {
   "cell_type": "code",
   "execution_count": 20,
   "metadata": {},
   "outputs": [
    {
     "name": "stdout",
     "output_type": "stream",
     "text": [
      "Length of the train data : 201\n",
      "**************************************************************************\n",
      "Co-efficients of the given matrix using gredient: [[ 4.08456444e+04]\n",
      " [ 3.78479485e+01]\n",
      " [-1.60071085e+03]\n",
      " [ 2.11728739e+04]\n",
      " [-1.07322843e+05]]\n",
      "Co-efficients of the given matrix by using sklearn: [[ 3.78523715e+01 -1.60071062e+03  2.11728739e+04 -1.07322843e+05]]\n"
     ]
    },
    {
     "name": "stderr",
     "output_type": "stream",
     "text": [
      "d:\\geek_stuff\\python3.6\\lib\\site-packages\\ipykernel_launcher.py:32: RuntimeWarning: overflow encountered in add\n",
      "d:\\geek_stuff\\python3.6\\lib\\site-packages\\ipykernel_launcher.py:32: RuntimeWarning: overflow encountered in square\n"
     ]
    }
   ],
   "source": [
    "\n",
    "# for degree 4\n",
    "import numpy as np\n",
    "import pandas as pd\n",
    "x = np.arange(0, 20.1, 0.1)\n",
    "np.random.seed(0)\n",
    "y =  3*x**4 - 100*x**3 + 8*x**2 -300*x - 1e5+np.random.randn(len(x))*1e5\n",
    "x_z = np.ndarray(shape=(201,4), dtype=float, order='F')\n",
    "#print(len(y))\n",
    "for i in range(0,len(x)):\n",
    "    x_z[i] = ([x[i]**4,x[i]**3,x[i]**2,x[i]**1])\n",
    "dx = pd.DataFrame(x_z)\n",
    "dy = pd.DataFrame(y)\n",
    "theta = gradientDescentRegression(dx,dy)    \n",
    "print(\"Co-efficients of the given matrix using gredient:\",theta)\n",
    "theta = gredientDescentRegress(dx,dy)    \n",
    "print(\"Co-efficients of the given matrix by using sklearn:\",theta)"
   ]
  },
  {
   "cell_type": "code",
   "execution_count": null,
   "metadata": {},
   "outputs": [],
   "source": []
  }
 ],
 "metadata": {
  "kernelspec": {
   "display_name": "Python 3",
   "language": "python",
   "name": "python3"
  },
  "language_info": {
   "codemirror_mode": {
    "name": "ipython",
    "version": 3
   },
   "file_extension": ".py",
   "mimetype": "text/x-python",
   "name": "python",
   "nbconvert_exporter": "python",
   "pygments_lexer": "ipython3",
   "version": "3.6.6"
  }
 },
 "nbformat": 4,
 "nbformat_minor": 2
}
