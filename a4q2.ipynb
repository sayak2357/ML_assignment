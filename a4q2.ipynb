{
 "cells": [
  {
   "cell_type": "markdown",
   "metadata": {},
   "source": [
    "# 2.a)"
   ]
  },
  {
   "cell_type": "code",
   "execution_count": 1,
   "metadata": {},
   "outputs": [],
   "source": [
    "import numpy as np\n",
    "from numpy.linalg import inv"
   ]
  },
  {
   "cell_type": "code",
   "execution_count": 2,
   "metadata": {},
   "outputs": [],
   "source": [
    "def normalEquationRidgeRegression(X, Y, ld):\n",
    "    xt = X.transpose()               ###Xt\n",
    "    b = np.ones((1,xt.shape[1]))\n",
    "    xt2 = np.vstack((b,xt))          ##Xt\n",
    "    x = xt2.transpose()\n",
    "    n1=np.matmul(xt2,x)              ##Xt*X\n",
    "    sz=n1.shape[1]\n",
    "    h=np.identity(sz)\n",
    "    h2=ld*h\n",
    "    n1=n1+h2\n",
    "    n2=inv(n1)\n",
    "    n3=np.matmul(xt2,Y)\n",
    "    n4= np.matmul(n2,n3)\n",
    "    return n4"
   ]
  },
  {
   "cell_type": "code",
   "execution_count": 3,
   "metadata": {},
   "outputs": [],
   "source": [
    "m = np.matrix([[2104,5,1,45],[1416,3,2,40],[1534,3,2,30],[852,2,1,36]])\n",
    "n = np.matrix([[460],[232],[315],[178]])"
   ]
  },
  {
   "cell_type": "code",
   "execution_count": 4,
   "metadata": {},
   "outputs": [
    {
     "data": {
      "text/plain": [
       "matrix([[  3.93106814],\n",
       "        [  0.23004259],\n",
       "        [  5.35595355],\n",
       "        [-20.64942575],\n",
       "        [ -0.92064695]])"
      ]
     },
     "execution_count": 4,
     "metadata": {},
     "output_type": "execute_result"
    }
   ],
   "source": [
    "normalEquationRidgeRegression(m,n,1)"
   ]
  },
  {
   "cell_type": "code",
   "execution_count": null,
   "metadata": {},
   "outputs": [],
   "source": []
  }
 ],
 "metadata": {
  "kernelspec": {
   "display_name": "Python 3",
   "language": "python",
   "name": "python3"
  },
  "language_info": {
   "codemirror_mode": {
    "name": "ipython",
    "version": 3
   },
   "file_extension": ".py",
   "mimetype": "text/x-python",
   "name": "python",
   "nbconvert_exporter": "python",
   "pygments_lexer": "ipython3",
   "version": "3.6.6"
  }
 },
 "nbformat": 4,
 "nbformat_minor": 2
}
